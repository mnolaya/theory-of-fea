{
 "cells": [
  {
   "cell_type": "code",
   "execution_count": 18,
   "metadata": {},
   "outputs": [],
   "source": [
    "import pathlib\n",
    "import re\n",
    "\n",
    "import numpy as np\n",
    "import matplotlib.pyplot as plt\n",
    "import polars as pl\n",
    "\n",
    "import mfe.baseclasses\n",
    "import mfe.solve\n",
    "import mfe.utils\n",
    "import mfe.load\n",
    "import mfe.plot\n",
    "import mfe.elem_lib\n",
    "\n",
    "import plotsauce.schemes as pltschemes\n",
    "\n",
    "plt.style.use('pltstyle.mplstyle')"
   ]
  },
  {
   "cell_type": "markdown",
   "metadata": {},
   "source": [
    "# Transformation in 2D"
   ]
  },
  {
   "cell_type": "markdown",
   "metadata": {},
   "source": [
    "$\\theta$: CCW+\n",
    "\n",
    "Transformation matrix $[T]$\n",
    "\n",
    "$$\n",
    "m = cos(\\theta),\\; n = sin(\\theta)\n",
    "$$\n",
    "\n",
    "$$\n",
    "T = \\begin{bmatrix}\n",
    "m^2 & n^2 & 2mn \\\\\n",
    "n^2 & m^2 & -2mn \\\\\n",
    "-mn & mn & m^2 - n^2 \\\\\n",
    "\\end{bmatrix}\n",
    "$$\n",
    "\n",
    "\n",
    "Stress terms\n",
    "\n",
    "$$\n",
    "\\begin{align*}\n",
    "\\sigma_{11} &= \\sigma_{xx}m^2 + \\sigma_{yy}n^2 + 2\\sigma_{xy}mn \\\\\n",
    "\\sigma_{22} &= \\sigma_{xx}n^2 + \\sigma_{yy}m^2 - 2\\sigma_{xy}mn \\\\\n",
    "\\sigma_{12} &= (\\sigma_{yy} - \\sigma_{xx})mn + \\sigma_{xy}(m^2 - n^2)\n",
    "\\end{align*}\n",
    "$$\n",
    "\n",
    "Strain terms\n",
    "\n",
    "$$\n",
    "\\begin{align*}\n",
    "\\varepsilon_{11} &= \\varepsilon_{xx}m^2 + \\varepsilon_{yy}n^2 + 2\\varepsilon_{xy}mn \\\\\n",
    "\\varepsilon_{22} &= \\varepsilon_{xx}n^2 + \\varepsilon_{yy}m^2 - 2\\varepsilon_{xy}mn \\\\\n",
    "\\varepsilon_{12} &= (\\varepsilon_{yy} - \\varepsilon_{xx})mn + \\varepsilon_{xy}(m^2 - n^2)\n",
    "\\end{align*}\n",
    "$$\n",
    "\n",
    "Local from global:\n",
    "\n",
    "$$\n",
    "\\begin{align*}\n",
    "[\\varepsilon_{local}] &= [S_{local}][\\sigma_{local}] \\\\\n",
    "[T][\\varepsilon_{global}] &= [S_{local}][T][\\sigma_{global}]\n",
    "\\end{align*}\n",
    "$$"
   ]
  },
  {
   "cell_type": "markdown",
   "metadata": {},
   "source": [
    "# Full characterization of in-plane properties"
   ]
  },
  {
   "cell_type": "markdown",
   "metadata": {},
   "source": [
    "## Assumptions\n",
    "\n",
    "In the gage area, neglecting boundary effects, free strain in off-axis $(xx/xy)$ directions. Thus, off-axis stresses are $<< \\sigma_{yy}$\n",
    "\n",
    "- $\\sigma_{xx} \\approx 0$\n",
    "- $\\sigma_{xy} \\approx 0$\n",
    "\n",
    "Furthermore, measurement of strains in the pulling direction $\\varepsilon_{yy}$ and transverse direction $\\varepsilon_{xx}$ are expected to be known from the test data."
   ]
  },
  {
   "cell_type": "markdown",
   "metadata": {},
   "source": [
    "## $E_{11}$ and $\\nu_{12}$"
   ]
  },
  {
   "cell_type": "markdown",
   "metadata": {},
   "source": [
    "$\\theta = 90^{\\circ} \\rightarrow m = 0,\\; n = 1$\n",
    "\n",
    "$$\n",
    "\\begin{align*}\n",
    "\\varepsilon_{11} &= \\varepsilon_{yy} \\\\\n",
    "\\varepsilon_{22} &= \\varepsilon_{xx} \\\\\n",
    "\\sigma_{11} &= \\sigma_{yy} \\\\\n",
    "\\sigma_{22} &= \\sigma_{xx} = 0 \\\\\n",
    "\\end{align*}\n",
    "$$\n",
    "\n",
    "$$\n",
    "\\begin{align*}\n",
    "\\varepsilon_{11} &= 1/E_{11}*\\sigma_{11} - \\nu_{12}/E_{11}*\\sigma_{22} \\\\\n",
    "\\varepsilon_{yy} &= 1/E_{11}*\\sigma_{yy} - \\nu_{12}/E_{11}*\\sigma_{xx} \\\\\n",
    "\\varepsilon_{yy} &= 1/E_{11}*\\sigma_{yy} \\\\\n",
    "\\end{align*}\n",
    "$$\n",
    "\n",
    "$$\n",
    "\\therefore E_{11} = \\frac{\\sigma_{yy}}{\\varepsilon_{yy}}\n",
    "$$\n",
    "\n",
    "$$\n",
    "\\begin{align*}\n",
    "\\nu_{12} &= -\\varepsilon_{22}/\\varepsilon_{11}\n",
    "&= -\\varepsilon_{yy}/\\varepsilon_{xx}\n",
    "\\end{align*}\n",
    "$$\n",
    "\n",
    "\n",
    "$$\n",
    "\\therefore \\nu_{12} = \\frac{-\\varepsilon_{yy}}{\\varepsilon_{xx}}\n",
    "$$"
   ]
  },
  {
   "cell_type": "markdown",
   "metadata": {},
   "source": [
    "## $E_{22}$"
   ]
  },
  {
   "cell_type": "markdown",
   "metadata": {},
   "source": [
    "$\\theta = 0^{\\circ} \\rightarrow n = 0,\\; m = 1$\n",
    "\n",
    "$$\n",
    "\\begin{align*}\n",
    "\\varepsilon_{11} &= \\varepsilon_{xx} \\\\\n",
    "\\varepsilon_{22} &= \\varepsilon_{yy} \\\\\n",
    "\\sigma_{11} &= \\sigma_{xx} = 0 \\\\\n",
    "\\sigma_{22} &= \\sigma_{yy} \\\\\n",
    "\\end{align*}\n",
    "$$\n",
    "\n",
    "$$\n",
    "\\begin{align*}\n",
    "\\varepsilon_{22} &= -\\nu_{12}/E_{11}*\\sigma_{11} + 1/E_{22}*\\sigma_{22} \\\\\n",
    "\\varepsilon_{yy} &= -\\nu_{12}/E_{11}*\\sigma_{xx} + 1/E_{22}*\\sigma_{yy} \\\\\n",
    "\\varepsilon_{yy} &= 1/E_{22}*\\sigma_{yy} \\\\\n",
    "\\end{align*}\n",
    "$$\n",
    "\n",
    "$$\n",
    "\\therefore E_{22} = \\frac{\\sigma_{yy}}{\\varepsilon_{yy}}\n",
    "$$"
   ]
  },
  {
   "cell_type": "markdown",
   "metadata": {},
   "source": [
    "## $G_{12}$"
   ]
  },
  {
   "cell_type": "markdown",
   "metadata": {},
   "source": [
    "$\\theta = 45^{\\circ} \\rightarrow m = n = \\frac{\\sqrt{2}}{2}$\n",
    "\n",
    "$$\n",
    "\\begin{align*}\n",
    "\\varepsilon_{12} &= (\\varepsilon_{yy} - \\varepsilon_{xx})mn = \\frac{1}{2}(\\varepsilon_{yy} - \\varepsilon_{xx}) \\\\\n",
    "\\sigma_{12} &= (\\sigma_{yy} - \\sigma_{xx})mn = \\frac{1}{2}\\sigma_{yy}\n",
    "\\end{align*}\n",
    "$$\n",
    "\n",
    "$$\n",
    "\\begin{align*}\n",
    "\\varepsilon_{12} &= \\frac{1}{G_{12}}\\sigma_{12} \\\\\n",
    "\\frac{1}{2}(\\varepsilon_{yy} - \\varepsilon_{xx}) &= \\frac{1}{G_{12}}\\frac{1}{2}\\sigma{yy} \\\\\n",
    "\\end{align*}\n",
    "$$\n",
    "\n",
    "$$\n",
    "\\therefore G_{12} = \\frac{\\varepsilon_{yy}}{\\varepsilon_{yy} - \\varepsilon_{xx}}\n",
    "$$\n"
   ]
  },
  {
   "cell_type": "markdown",
   "metadata": {},
   "source": [
    "$$\n",
    "m = cos(\\theta),\\; n = sin(\\theta)\n",
    "$$\n",
    "\n",
    "$$\n",
    "\\theta = 0\n",
    "$$\n",
    "\n",
    "$$\n",
    "\\begin{align*}\n",
    "\\sigma_{11} &= \\sigma_{xx}cos^{2}(\\theta) + \\sigma_{yy}sin^{2}(\\theta) + 2\\sigma_{xy}sin(\\theta)cos(\\theta) = \\sigma_{xx} \\\\\n",
    "\\sigma_{22} &= \\sigma_{xx}sin^{2}(\\theta) + \\sigma_{yy}cos^{2}(\\theta) - 2\\sigma_{xy}sin(\\theta)cos(\\theta) = \\sigma_{yy} \\\\\n",
    "\\end{align*}\n",
    "$$\n",
    "\n",
    "$$\n",
    "\\begin{align*}\n",
    "\\varepsilon_{22} &= \\varepsilon_{xx}sin^{2}(\\theta) + \\varepsilon_{yy}cos^{2}(\\theta) - 2\\varepsilon_{xy}sin(\\theta)cos(\\theta) = \\varepsilon_{yy} \\\\\n",
    "\\end{align*}\n",
    "$$\n",
    "\n",
    "$$\n",
    "\\varepsilon_{yy} = 1/E_{11}(\\sigma_{xx}) - \\nu_{12}/E_{11}(\\sigma_{yy})\n",
    "$$\n",
    "\n",
    "$$\n",
    "\\therefore \\nu_{12} = E_{11}\\frac{\\varepsilon_{yy}}{\\sigma_{yy}}\n",
    "$$"
   ]
  },
  {
   "cell_type": "markdown",
   "metadata": {},
   "source": [
    "\n",
    "## $G_{12}$\n",
    "\n",
    "Unknowns:\n",
    "\n",
    "$G_{12}, \\sigma_{xx}, \\sigma_{xy}$\n",
    "\n",
    "### $\\theta = 30$\n",
    "\n",
    "$$\n",
    "\\sin(30) = 1/2 \\\\\n",
    "\\cos(30) = \\sqrt(3)/2\n",
    "$$\n",
    "\n",
    "$$\n",
    "\\begin{align*}\n",
    "\\varepsilon_{12} = \\frac{\\sqrt(3)}{4}\\varepsilon_{yy} &= \\frac{1}{2G_{12}}((\\sigma_{yy} - \\sigma_{xx})\\frac{\\sqrt(3)}{4} + \\sigma_{xy}(\\frac{3}{4} - \\frac{1}{4})) \\\\\n",
    "\\frac{\\sqrt(3)\\delta}{40} &= \\frac{1}{2G_{12}}(\\frac{\\sqrt(3)F}{8t} - \\frac{\\sqrt(3)\\sigma_{xx}}{4} + \\frac{\\sigma_{xy}}{2}) \\\\\n",
    "\\frac{\\sqrt(3)\\delta G_{12}}{20} &= \\frac{\\sqrt(3)F}{8t} - \\frac{\\sqrt(3)\\sigma_{xx}}{4} + \\frac{\\sigma_{xy}}{2} \\\\\n",
    "\\end{align*}\n",
    "$$\n",
    "\n",
    "$$\n",
    "\\therefore \\frac{\\sqrt(3)\\sigma_{xx}}{4} + \\frac{\\sqrt(3)G_{12}\\delta}{20} - \\frac{\\sigma_{xy}}{2} = \\frac{\\sqrt(3)F}{8t}\n",
    "$$\n",
    "\n",
    "### $\\theta = 45$\n",
    "\n",
    "$$\n",
    "\\sin(30) = \\sqrt(2)/2 \\\\\n",
    "\\cos(30) = \\sqrt(2)/2\n",
    "$$\n",
    "\n",
    "$$\n",
    "\\begin{align*}\n",
    "\\varepsilon_{12} = \\frac{1}{2}\\varepsilon_{yy} &= \\frac{1}{2G_{12}}((\\sigma_{yy} - \\sigma_{xx})\\frac{1}{2}) \\\\\n",
    "\\frac{\\delta}{20} &= \\frac{1}{2G_{12}}(\\frac{F}{4t} - \\frac{\\sigma_{xx}}{2}) \\\\\n",
    "\\frac{G_{12}\\delta}{10} &= (\\frac{F}{4t} - \\frac{\\sigma_{xx}}{2})\n",
    "\\end{align*}\n",
    "$$\n",
    "\n",
    "$$\n",
    "\\therefore \\frac{\\sigma_{xx}}{2} + \\frac{G_{12}\\delta}{10} = \\frac{F}{4t}\n",
    "$$\n",
    "\n",
    "### $\\theta = 60$\n",
    "\n",
    "$$\n",
    "\\sin(30) = \\sqrt(3)/2 \\\\\n",
    "\\cos(30) = 1/2\n",
    "$$\n",
    "\n",
    "$$\n",
    "\\begin{align*}\n",
    "\\varepsilon_{12} = \\frac{\\sqrt(3)}{4}\\varepsilon_{yy} &= \\frac{1}{2G_{12}}((\\sigma_{yy} - \\sigma_{xx})\\frac{\\sqrt(3)}{4} + \\sigma_{xy}(\\frac{1}{4} - \\frac{3}{4})) \\\\\n",
    "\\frac{\\sqrt(3)\\delta}{40} &= \\frac{1}{2G_{12}}(\\frac{\\sqrt(3)F}{8t} - \\frac{\\sqrt(3)\\sigma_{xx}}{4} - \\frac{\\sigma_{xy}}{2}) \\\\\n",
    "\\frac{\\sqrt(3)\\delta G_{12}}{20} &= \\frac{\\sqrt(3)F}{8t} - \\frac{\\sqrt(3)\\sigma_{xx}}{4} - \\frac{\\sigma_{xy}}{2} \\\\\n",
    "\\end{align*}\n",
    "$$\n",
    "\n",
    "$$\n",
    "\\therefore \\frac{\\sqrt(3)\\sigma_{xx}}{4} + \\frac{\\sqrt(3)G_{12}\\delta}{20} + \\frac{\\sigma_{xy}}{2} = \\frac{\\sqrt(3)F}{8t}\n",
    "$$\n",
    "\n",
    "3 equations, 3 unknowns\n",
    "\n",
    "$$\n",
    "q = \\begin{bmatrix}\n",
    "G_{12} \\\\\n",
    "\\sigma_{xx} \\\\\n",
    "\\sigma_{xy} \\\\\n",
    "\\end{bmatrix}\n",
    "$$\n",
    "\n",
    "$$\n",
    "K = \\begin{bmatrix}\n",
    "\\sqrt(3)\\delta/{20} & \\sqrt(3)/{4} & -1/2 \\\\\n",
    "\\delta/{10} & 1/{2} & 0 \\\\\n",
    "\\sqrt(3)\\delta/{20} & \\sqrt(3)/{4} & 1/2 \\\\\n",
    "\\end{bmatrix}\n",
    "$$\n",
    "\n",
    "$$\n",
    "F = \\begin{bmatrix}\n",
    "\\sqrt(3)F/8t \\\\\n",
    "F/4t \\\\\n",
    "\\sqrt(3)F/8t \\\\\n",
    "\\end{bmatrix}\n",
    "$$\n",
    "\n",
    "\n"
   ]
  },
  {
   "cell_type": "code",
   "execution_count": 19,
   "metadata": {},
   "outputs": [],
   "source": [
    "JOB_DIRS = {\n",
    "    'linear': pathlib.Path('./jobs/linear'),\n",
    "}\n",
    "\n",
    "theta_data = {}\n",
    "for fp in JOB_DIRS['linear'].glob('*mesh5*'):\n",
    "    if not fp.is_dir(): continue\n",
    "    job_name = fp.stem\n",
    "    \n",
    "    # Load simulation data\n",
    "    # G = np.load(fp.joinpath('gage_.npy'))\n",
    "    # Q = np.load(fp.joinpath('displacements.npy'))\n",
    "    # F = np.load(fp.joinpath('reaction_forces.npy'))\n",
    "    gage_stress = np.load(fp.joinpath('gage_stress.npy'))\n",
    "    gage_strain = np.load(fp.joinpath('gage_strain.npy'))\n",
    "    \n",
    "    # Load summary info\n",
    "    with open(fp.joinpath('job_summary.log'), 'r') as f:\n",
    "        summary = {}\n",
    "        for line in f.readlines():\n",
    "            k, v = line.split(\": \")\n",
    "            summary.update({k: v.strip()}) \n",
    "\n",
    "    # Compute mean props\n",
    "    theta = int(re.search(r'_(\\d+)', job_name).group(1))\n",
    "    theta_data.update({theta: \n",
    "        {\n",
    "            'elements': summary['Elements'], \n",
    "            'nodes': summary['Nodes'],\n",
    "            'gage_stress': np.mean(gage_stress, axis=(0, 1)),\n",
    "            'gage_strain': np.mean(gage_strain, axis=(0, 1)),\n",
    "            # 'disp': np.mean(Q, axis=(0, 1)),\n",
    "            # 'react': np.mean(F, axis=(0, 1)),\n",
    "        }\n",
    "    })"
   ]
  },
  {
   "cell_type": "markdown",
   "metadata": {},
   "source": [
    "# Convergence study"
   ]
  },
  {
   "cell_type": "code",
   "execution_count": 20,
   "metadata": {},
   "outputs": [],
   "source": [
    "JOB_DIRS = {\n",
    "    'linear': pathlib.Path('./jobs/linear'),\n",
    "}"
   ]
  },
  {
   "cell_type": "code",
   "execution_count": 21,
   "metadata": {},
   "outputs": [],
   "source": [
    "def get_stats_by_angle(job_id: str, job_dir: pathlib.Path) -> pl.DataFrame:\n",
    "    stats = []\n",
    "    for fp in job_dir:\n",
    "        if not fp.is_dir(): continue\n",
    "        job_name = fp.stem\n",
    "        if job_id not in job_name: continue\n",
    "        \n",
    "        # Load simulation data\n",
    "        # G = np.load(fp.joinpath('gage_.npy'))\n",
    "        Q = np.load(fp.joinpath('nodal_disp.npy'))\n",
    "        F = np.load(fp.joinpath('nodal_reaction_force.npy'))\n",
    "        gage_stress = np.load(fp.joinpath('gage_stress.npy'))\n",
    "        gage_strain = np.load(fp.joinpath('gage_strain.npy'))\n",
    "        \n",
    "        # Load summary info\n",
    "        with open(fp.joinpath('job_summary.log'), 'r') as f:\n",
    "            summary = {}\n",
    "            for line in f.readlines():\n",
    "                k, v = line.split(\": \")\n",
    "                summary.update({k: v.strip()}) \n",
    "\n",
    "        # Compute mean props\n",
    "        stats.append({\n",
    "            'elements': summary['Elements'], \n",
    "            'nodes': summary['Nodes'],\n",
    "            'gage_stress': np.mean(gage_stress, axis=(0, 1)),\n",
    "            'gage_strain': np.mean(gage_strain, axis=(0, 1)),\n",
    "            'disp_1': np.mean(Q[0::2]),\n",
    "            'disp_2': np.mean(Q[1::2]),\n",
    "            'react_1': np.mean(F[0::2]),\n",
    "            'react_2': np.mean(F[1::2]),\n",
    "            'theta': re.search(r'_(\\d+)', job_name).group(1)\n",
    "        })\n",
    "\n",
    "    # Convert to dataframe and compute percent change\n",
    "    df = pl.DataFrame(\n",
    "    {\n",
    "        'elements': [int(s['elements']) for s in stats],\n",
    "        'S11': [s['gage_stress'][0][0] for s in stats],\n",
    "        'S22': [s['gage_stress'][1][0] for s in stats],\n",
    "        'S12': [s['gage_stress'][2][0] for s in stats],\n",
    "        'E11': [s['gage_strain'][0][0] for s in stats],\n",
    "        'E22': [s['gage_strain'][1][0] for s in stats],\n",
    "        'E12': [s['gage_strain'][2][0] for s in stats],\n",
    "        'react_1': [s['disp_1'] for s in stats],\n",
    "        'disp_2': [s['disp_2'] for s in stats],\n",
    "        'react_1': [s['react_1'] for s in stats],\n",
    "        'react_2': [s['react_2'] for s in stats],\n",
    "    })\n",
    "    return df.with_columns(pl.all().pct_change().abs().name.suffix('_pct'))\n",
    "    "
   ]
  },
  {
   "cell_type": "code",
   "execution_count": 22,
   "metadata": {},
   "outputs": [],
   "source": [
    "# Gather data for convergence analysis and compute percent change with increasing element size\n",
    "df = get_stats_by_angle('_90', JOB_DIRS['linear'].glob('*'))"
   ]
  },
  {
   "cell_type": "code",
   "execution_count": 23,
   "metadata": {},
   "outputs": [
    {
     "data": {
      "image/png": "[encoded data removed]",
      "text/plain": [
       "<Figure size 640x480 with 1 Axes>"
      ]
     },
     "metadata": {},
     "output_type": "display_data"
    }
   ],
   "source": [
    "fig, ax = plt.subplots()\n",
    "ax.plot(df.select('elements'), df.select('S11_pct')*100, label=r'$\\sigma_{11}$', color=pltschemes.VibrantScheme.RED.value, marker='o', linestyle='-', linewidth=1.0)\n",
    "# ax.plot(df.select('elements'), df.select('S22_pct')*100, label=r'$\\sigma_{11}$', color=pltschemes.VibrantScheme.RED.value, marker='o', linestyle='-', linewidth=1.0)\n",
    "ax.plot(df.select('elements'), df.select('E11_pct')*100, label=r'$\\varepsilon_{11}$', color=pltschemes.VibrantScheme.BLUE.value, marker='o', linestyle='-', linewidth=1.0)\n",
    "ax.plot(df.select('elements'), df.select('E22_pct')*100, label=r'$\\varepsilon_{22}$', color=pltschemes.VibrantScheme.TEAL.value, marker='o', linestyle='-', linewidth=1.0)\n",
    "ax.set_xlabel('No. of elements')\n",
    "ax.set_ylabel(r'\\% change')\n",
    "ax.legend()\n",
    "fig.tight_layout()"
   ]
  },
  {
   "cell_type": "code",
   "execution_count": 24,
   "metadata": {},
   "outputs": [],
   "source": [
    "# Gather data for convergence analysis and compute percent change with increasing element size\n",
    "df = get_stats_by_angle('_0', JOB_DIRS['linear'].glob('*'))"
   ]
  },
  {
   "cell_type": "code",
   "execution_count": 25,
   "metadata": {},
   "outputs": [
    {
     "data": {
      "image/png": "[encoded data removed]",
      "text/plain": [
       "<Figure size 640x480 with 1 Axes>"
      ]
     },
     "metadata": {},
     "output_type": "display_data"
    }
   ],
   "source": [
    "fig, ax = plt.subplots()\n",
    "ax.plot(df.select('elements'), df.select('S22_pct')*100, label=r'$\\sigma_{22}$', color=pltschemes.VibrantScheme.RED.value, marker='o', linestyle='-', linewidth=1.0)\n",
    "ax.plot(df.select('elements'), df.select('E11_pct')*100, label=r'$\\varepsilon_{11}$', color=pltschemes.VibrantScheme.BLUE.value, marker='o', linestyle='-', linewidth=1.0)\n",
    "ax.plot(df.select('elements'), df.select('E22_pct')*100, label=r'$\\varepsilon_{22}$', color=pltschemes.VibrantScheme.TEAL.value, marker='o', linestyle='-', linewidth=1.0)\n",
    "ax.set_xlabel('No. of elements')\n",
    "ax.set_ylabel(r'\\% change')\n",
    "ax.legend()\n",
    "fig.tight_layout()"
   ]
  },
  {
   "cell_type": "code",
   "execution_count": 26,
   "metadata": {},
   "outputs": [],
   "source": [
    "# Gather data for convergence analysis and compute percent change with increasing element size\n",
    "df = get_stats_by_angle('_45', JOB_DIRS['linear'].glob('*'))"
   ]
  },
  {
   "cell_type": "code",
   "execution_count": 27,
   "metadata": {},
   "outputs": [
    {
     "data": {
      "image/png": "[encoded data removed]",
      "text/plain": [
       "<Figure size 640x480 with 1 Axes>"
      ]
     },
     "metadata": {},
     "output_type": "display_data"
    }
   ],
   "source": [
    "fig, ax = plt.subplots()\n",
    "ax.plot(df.select('elements'), df.select('S11_pct')*100, label=r'$\\sigma_{11}$', color=pltschemes.VibrantScheme.RED.value, marker='o', linestyle='-', linewidth=1.0)\n",
    "ax.plot(df.select('elements'), df.select('S22_pct')*100, label=r'$\\sigma_{22}$', color=pltschemes.VibrantScheme.RED.value, marker='o', linestyle='-', linewidth=1.0)\n",
    "ax.plot(df.select('elements'), df.select('S12_pct')*100, label=r'$\\sigma_{12}$', color=pltschemes.VibrantScheme.RED.value, marker='o', linestyle='-', linewidth=1.0)\n",
    "ax.plot(df.select('elements'), df.select('E11_pct')*100, label=r'$\\varepsilon_{11}$', color=pltschemes.VibrantScheme.BLUE.value, marker='o', linestyle='-', linewidth=1.0)\n",
    "ax.plot(df.select('elements'), df.select('E22_pct')*100, label=r'$\\varepsilon_{22}$', color=pltschemes.VibrantScheme.TEAL.value, marker='o', linestyle='-', linewidth=1.0)\n",
    "ax.plot(df.select('elements'), df.select('E12_pct')*100, label=r'$\\varepsilon_{12}$', color=pltschemes.VibrantScheme.TEAL.value, marker='o', linestyle='-', linewidth=1.0)\n",
    "ax.set_xlabel('No. of elements')\n",
    "ax.set_ylabel(r'\\% change')\n",
    "ax.legend()\n",
    "fig.tight_layout()"
   ]
  },
  {
   "cell_type": "code",
   "execution_count": 28,
   "metadata": {},
   "outputs": [
    {
     "name": "stdout",
     "output_type": "stream",
     "text": [
      "[[264261.02475062]\n",
      " [274789.07477671]\n",
      " [279590.95334474]\n",
      " [281215.95455252]\n",
      " [281696.1284571 ]\n",
      " [281834.85663922]]\n"
     ]
    },
    {
     "data": {
      "text/plain": [
       "Text(0, 0.5, 'Elastic modulus [MPa]')"
      ]
     },
     "execution_count": 28,
     "metadata": {},
     "output_type": "execute_result"
    },
    {
     "data": {
      "image/png": "[encoded data removed]",
      "text/plain": [
       "<Figure size 640x480 with 1 Axes>"
      ]
     },
     "metadata": {},
     "output_type": "display_data"
    }
   ],
   "source": [
    "print(df.select(pl.col('S11')/pl.col('E11')).to_numpy())\n",
    "fig, ax = plt.subplots()\n",
    "ax.plot(df.select('elements'), df.select(pl.col('S11')/pl.col('E11')).to_numpy(), label='S11 (Linear)', marker='o', linestyle='none')\n",
    "# # ax.plot(df.select('elements'), df.select('S22')*100, label='S22 (Linear)', marker='o')\n",
    "# # ax.plot(df.select('elements'), df.select('E11')*100, label='E11 (Linear)', marker='o')\n",
    "# # ax.plot(df.select('elements'), df.select('E22_pct')*100, label='E22 (Linear)', marker='o')\n",
    "# ax.legend()\n",
    "ax.set_ylim([230500, 231500])\n",
    "ax.set_xlabel('No. of elements')\n",
    "ax.set_ylabel('Elastic modulus [MPa]')"
   ]
  },
  {
   "cell_type": "code",
   "execution_count": 29,
   "metadata": {},
   "outputs": [],
   "source": [
    "JOB = 'proj_mesh5_45'\n",
    "job_dir = pathlib.Path.cwd().joinpath('jobs', 'linear', JOB)\n",
    "x_assembly = np.load(job_dir.joinpath('assembly_grid.npy'))\n",
    "Q_assembly = np.load(job_dir.joinpath('assembly_disp.npy'))\n",
    "F_assembly = np.load(job_dir.joinpath('assembly_reaction_force.npy'))\n",
    "sig = np.load(job_dir.joinpath('assembly_stress.npy'))\n",
    "eps = np.load(job_dir.joinpath('assembly_strain.npy'))"
   ]
  },
  {
   "cell_type": "code",
   "execution_count": 30,
   "metadata": {},
   "outputs": [],
   "source": [
    "# mfe.plot.plot_element_displacement(Q_assembly, x_assembly, method='scatter')"
   ]
  },
  {
   "cell_type": "code",
   "execution_count": 31,
   "metadata": {},
   "outputs": [],
   "source": [
    "# mfe.plot.plot_element_stress_strain(sig, eps, x_assembly, method='scatter')"
   ]
  },
  {
   "cell_type": "code",
   "execution_count": 32,
   "metadata": {},
   "outputs": [],
   "source": [
    "JOB_DIRS = {\n",
    "    'linear': pathlib.Path('./jobs/linear'),\n",
    "}\n",
    "\n",
    "theta_data = {}\n",
    "for fp in JOB_DIRS['linear'].glob('*mesh5*'):\n",
    "    if not fp.is_dir(): continue\n",
    "    job_name = fp.stem\n",
    "    \n",
    "    # Load simulation data\n",
    "    # G = np.load(fp.joinpath('gage_.npy'))\n",
    "    # Q = np.load(fp.joinpath('displacements.npy'))\n",
    "    # F = np.load(fp.joinpath('reaction_forces.npy'))\n",
    "    gage_stress = np.load(fp.joinpath('gage_stress_glob.npy'))\n",
    "    gage_strain = np.load(fp.joinpath('gage_strain_glob.npy'))\n",
    "    \n",
    "    # Load summary info\n",
    "    with open(fp.joinpath('job_summary.log'), 'r') as f:\n",
    "        summary = {}\n",
    "        for line in f.readlines():\n",
    "            k, v = line.split(\": \")\n",
    "            summary.update({k: v.strip()}) \n",
    "\n",
    "    # Compute mean props\n",
    "    theta = int(re.search(r'_(\\d+)', job_name).group(1))\n",
    "    theta_data.update({theta: \n",
    "        {\n",
    "            'elements': summary['Elements'], \n",
    "            'nodes': summary['Nodes'],\n",
    "            'gage_stress': np.mean(gage_stress, axis=(0, 1)),\n",
    "            'gage_strain': np.mean(gage_strain, axis=(0, 1)),\n",
    "            # 'disp': np.mean(Q, axis=(0, 1)),\n",
    "            # 'react': np.mean(F, axis=(0, 1)),\n",
    "        }\n",
    "    })"
   ]
  },
  {
   "cell_type": "code",
   "execution_count": 64,
   "metadata": {},
   "outputs": [
    {
     "name": "stdout",
     "output_type": "stream",
     "text": [
      "[[-9.81672370e-03]\n",
      " [-4.87624771e-03]\n",
      " [ 8.07458279e+00]]\n",
      "[[ 8.79034908e-05]\n",
      " [ 9.98660297e-03]\n",
      " [-8.87786157e-03]]\n",
      "[[9.36578690e-02]\n",
      " [3.12892561e+02]\n",
      " [1.20520069e+01]]\n"
     ]
    }
   ],
   "source": [
    "theta = 45\n",
    "m = np.cos(np.deg2rad(theta))\n",
    "n = np.sin(np.deg2rad(theta))\n",
    "sigma_yy = theta_data[theta]['gage_stress'][1][0]\n",
    "eps_yy = theta_data[theta]['gage_strain'][1][0]\n",
    "E11 = 231000\n",
    "E22 = 15000\n",
    "G12 = 15800\n",
    "\n",
    "K = np.array([\n",
    "    [m**2, 2*m*n, (sigma_yy/E11)*m**2],\n",
    "    [n**2, -2*m*n, (sigma_yy/E11)*n**2],\n",
    "    [-m*n, (m**2 - n**2), 0],\n",
    "])\n",
    "F = np.array([\n",
    "    [((1/E11)*sigma_yy - eps_yy)*n**2],\n",
    "    [((1/E22)*sigma_yy - eps_yy)*m**2],\n",
    "    [((1/G12)*sigma_yy - eps_yy)*m*n],\n",
    "])\n",
    "test = np.matmul(np.linalg.inv(K), F)\n",
    "print(test)\n",
    "print(theta_data[theta]['gage_strain'])\n",
    "print(theta_data[theta]['gage_stress'])"
   ]
  },
  {
   "cell_type": "code",
   "execution_count": null,
   "metadata": {},
   "outputs": [],
   "source": []
  },
  {
   "cell_type": "code",
   "execution_count": null,
   "metadata": {},
   "outputs": [],
   "source": []
  }
 ],
 "metadata": {
  "kernelspec": {
   "display_name": "venv",
   "language": "python",
   "name": "python3"
  },
  "language_info": {
   "codemirror_mode": {
    "name": "ipython",
    "version": 3
   },
   "file_extension": ".py",
   "mimetype": "text/x-python",
   "name": "python",
   "nbconvert_exporter": "python",
   "pygments_lexer": "ipython3",
   "version": "3.12.3"
  }
 },
 "nbformat": 4,
 "nbformat_minor": 2
}
