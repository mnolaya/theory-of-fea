{
 "cells": [
  {
   "cell_type": "code",
   "execution_count": 1,
   "metadata": {},
   "outputs": [],
   "source": [
    "import numpy as np\n",
    "import matplotlib.pyplot as plt\n",
    "\n",
    "from mfea.elem_lib import Linear2D, Quadratic2D\n",
    "from mfea.plot import plot_shape_functions, plot_element_field"
   ]
  },
  {
   "cell_type": "code",
   "execution_count": 2,
   "metadata": {},
   "outputs": [],
   "source": [
    "ELEMENTS = {\n",
    "    'linear': Linear2D.from_element_coords(\n",
    "        [\n",
    "            np.array([0, 0]), \n",
    "            np.array([12, -1]), \n",
    "            np.array([15, 8]), \n",
    "            np.array([-1, 10])]\n",
    "    ),\n",
    "    'quad': Quadratic2D.from_element_coords(\n",
    "        [\n",
    "            np.array([0, 0]), \n",
    "            np.array([6, 0.5]), \n",
    "            np.array([12, -1]),\n",
    "            np.array([11, 5]),\n",
    "            np.array([15, 8]),\n",
    "            np.array([6, 11]),\n",
    "            np.array([-1, 10]),\n",
    "            np.array([1, 5]),\n",
    "        ]\n",
    "    )\n",
    "}"
   ]
  },
  {
   "cell_type": "code",
   "execution_count": 3,
   "metadata": {},
   "outputs": [],
   "source": [
    "elem = Linear2D.from_element_coords(\n",
    "    [\n",
    "        np.array([0, 0]), \n",
    "        np.array([12, -1]), \n",
    "        np.array([15, 8]), \n",
    "        np.array([-1, 10])\n",
    "    ]\n",
    ")\n",
    "elem.J(0, 0, 0)"
   ]
  },
  {
   "cell_type": "code",
   "execution_count": 5,
   "metadata": {},
   "outputs": [
    {
     "data": {
      "text/plain": [
       "[(<function mfea.elem_lib.Linear2D.dN1_1(eta_2: float) -> float>,\n",
       "  <function mfea.elem_lib.Linear2D.dN1_2(eta_1: float) -> float>),\n",
       " (<function mfea.elem_lib.Linear2D.dN2_1(eta_2: float) -> float>,\n",
       "  <function mfea.elem_lib.Linear2D.dN2_2(eta_1: float) -> float>),\n",
       " (<function mfea.elem_lib.Linear2D.dN3_1(eta_2: float) -> float>,\n",
       "  <function mfea.elem_lib.Linear2D.dN3_2(eta_1: float) -> float>),\n",
       " (<function mfea.elem_lib.Linear2D.dN4_1(eta_2: float) -> float>,\n",
       "  <function mfea.elem_lib.Linear2D.dN4_2(eta_1: float) -> float>)]"
      ]
     },
     "execution_count": 5,
     "metadata": {},
     "output_type": "execute_result"
    }
   ],
   "source": []
  },
  {
   "cell_type": "code",
   "execution_count": null,
   "metadata": {},
   "outputs": [],
   "source": []
  }
 ],
 "metadata": {
  "kernelspec": {
   "display_name": "venv",
   "language": "python",
   "name": "python3"
  },
  "language_info": {
   "codemirror_mode": {
    "name": "ipython",
    "version": 3
   },
   "file_extension": ".py",
   "mimetype": "text/x-python",
   "name": "python",
   "nbconvert_exporter": "python",
   "pygments_lexer": "ipython3",
   "version": "3.12.3"
  }
 },
 "nbformat": 4,
 "nbformat_minor": 2
}
