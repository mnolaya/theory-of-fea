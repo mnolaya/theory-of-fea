{
 "cells": [
  {
   "cell_type": "code",
   "execution_count": 1,
   "metadata": {},
   "outputs": [],
   "source": [
    "import numpy as np\n",
    "import matplotlib.pyplot as plt\n",
    "\n",
    "from mfea.elem_lib import Linear2D, Quadratic2D\n",
    "from mfea.plot import plot_shape_functions, plot_element_field"
   ]
  },
  {
   "cell_type": "code",
   "execution_count": 2,
   "metadata": {},
   "outputs": [],
   "source": [
    "ELEMENTS = {\n",
    "    'linear': Linear2D.from_element_coords(\n",
    "        [\n",
    "            np.array([0, 0]), \n",
    "            np.array([12, -1]), \n",
    "            np.array([15, 8]), \n",
    "            np.array([-1, 10])]\n",
    "    ),\n",
    "    'quad': Quadratic2D.from_element_coords(\n",
    "        [\n",
    "            np.array([0, 0]), \n",
    "            np.array([6, 0.5]), \n",
    "            np.array([12, -1]),\n",
    "            np.array([11, 5]),\n",
    "            np.array([15, 8]),\n",
    "            np.array([6, 11]),\n",
    "            np.array([-1, 10]),\n",
    "            np.array([1, 5]),\n",
    "        ]\n",
    "    )\n",
    "}"
   ]
  },
  {
   "cell_type": "code",
   "execution_count": 3,
   "metadata": {},
   "outputs": [
    {
     "name": "stdout",
     "output_type": "stream",
     "text": [
      "[[-0.25  0.    0.25  0.    0.25  0.   -0.25  0.  ]\n",
      " [-0.25  0.   -0.25  0.    0.25  0.    0.25  0.  ]\n",
      " [ 0.   -0.25  0.    0.25  0.    0.25  0.   -0.25]\n",
      " [ 0.   -0.25  0.   -0.25  0.    0.25  0.    0.25]]\n"
     ]
    },
    {
     "ename": "",
     "evalue": "",
     "output_type": "error",
     "traceback": [
      "\u001b[1;31mThe Kernel crashed while executing code in the current cell or a previous cell. \n",
      "\u001b[1;31mPlease review the code in the cell(s) to identify a possible cause of the failure. \n",
      "\u001b[1;31mClick <a href='https://aka.ms/vscodeJupyterKernelCrash'>here</a> for more info. \n",
      "\u001b[1;31mView Jupyter <a href='command:jupyter.viewOutput'>log</a> for further details."
     ]
    }
   ],
   "source": [
    "elem = Linear2D.from_element_coords(\n",
    "    [\n",
    "        np.array([0, 0]), \n",
    "        np.array([12, -1]), \n",
    "        np.array([15, 8]), \n",
    "        np.array([-1, 10])\n",
    "    ]\n",
    ")\n",
    "elem.J(0, 0, 0)"
   ]
  },
  {
   "cell_type": "code",
   "execution_count": null,
   "metadata": {},
   "outputs": [],
   "source": []
  },
  {
   "cell_type": "code",
   "execution_count": null,
   "metadata": {},
   "outputs": [],
   "source": []
  }
 ],
 "metadata": {
  "kernelspec": {
   "display_name": "venv",
   "language": "python",
   "name": "python3"
  },
  "language_info": {
   "codemirror_mode": {
    "name": "ipython",
    "version": 3
   },
   "file_extension": ".py",
   "mimetype": "text/x-python",
   "name": "python",
   "nbconvert_exporter": "python",
   "pygments_lexer": "ipython3",
   "version": "3.12.3"
  }
 },
 "nbformat": 4,
 "nbformat_minor": 2
}
