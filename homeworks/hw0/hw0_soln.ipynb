{
 "cells": [
  {
   "cell_type": "markdown",
   "metadata": {},
   "source": [
    "# MECH.5130: Theory of Finite Element Analysis**\n",
    "\n",
    "Michael N. Olaya\n",
    "\n",
    "Fall 2024\n",
    "\n",
    "**Homework 0**"
   ]
  },
  {
   "cell_type": "markdown",
   "metadata": {},
   "source": []
  },
  {
   "cell_type": "markdown",
   "metadata": {},
   "source": [
    "# Problem 1\n",
    "\n",
    "**a.**\n",
    "\n",
    "$$\n",
    "\\{a\\}^{T}\\{b\\} = a_{11}*b_{11} + a_{21}*b_{21} + a_{31}*b_{31}\n",
    "$$\n",
    "\n",
    "**b.**\n",
    "\n",
    "$$\n",
    "[A]\\{a\\} =\n",
    "\\begin{bmatrix}\n",
    "    A_{11}*a_{11} + A_{12}*a_{21} + A_{13}*a_{31} \\\\\n",
    "    A_{21}*a_{11} + A_{22}*a_{21} + A_{23}*a_{31} \\\\\n",
    "    A_{31}*a_{11} + A_{32}*a_{21} + A_{33}*a_{31} \\\\\n",
    "\\end{bmatrix}\n",
    "$$\n",
    "\n",
    "**c.**\n",
    "\n",
    "$$\n",
    "\\{c\\} = [A]\\{b\\} =\n",
    "\\begin{bmatrix}\n",
    "    A_{11}*b_{11} + A_{12}*b_{21} + A_{13}*b_{31} \\\\\n",
    "    A_{21}*b_{11} + A_{22}*b_{21} + A_{23}*b_{31} \\\\\n",
    "    A_{31}*b_{11} + A_{32}*b_{21} + A_{33}*b_{31} \\\\\n",
    "\\end{bmatrix}\n",
    "$$\n",
    "\n",
    "$$\n",
    "\\{a\\}^{T}\\{c\\} = \\{a\\}^{T}[A]\\{b\\} = a_{11}*c_{11} + a_{21}*c_{21} + a_{31}*c_{31}\n",
    "$$\n",
    "\n",
    "**d.**\n",
    "\n",
    "$$\n",
    "[A][B] =\n",
    "\\begin{bmatrix}\n",
    "    A_{11}*B_{11} + A_{12}*B_{21} + A_{13}*B_{31} \\quad A_{11}*B_{12} + A_{12}*B_{22} + A_{13}*B_{32} \\quad A_{11}*B_{13} + A_{12}*B_{23} + A_{13}*B_{33}\\\\\n",
    "    A_{21}*B_{11} + A_{22}*B_{21} + A_{23}*B_{31} \\quad A_{21}*B_{12} + A_{22}*B_{22} + A_{23}*B_{32} \\quad A_{21}*B_{13} + A_{22}*B_{23} + A_{23}*B_{33}\\\\\n",
    "    A_{31}*B_{11} + A_{32}*B_{21} + A_{33}*B_{31} \\quad A_{31}*B_{12} + A_{32}*B_{22} + A_{33}*B_{32} \\quad A_{31}*B_{13} + A_{32}*B_{23} + A_{33}*B_{33}\\\\\n",
    "\\end{bmatrix}\n",
    "$$\n",
    "\n",
    "**e.**\n",
    "\n",
    "$$\n",
    "[A][B]^{T} =\n",
    "\\begin{bmatrix}\n",
    "    A_{11}*B_{11} + A_{12}*B_{12} + A_{13}*B_{13} \\quad A_{11}*B_{21} + A_{12}*B_{22} + A_{13}*B_{23} \\quad A_{11}*B_{31} + A_{12}*B_{32} + A_{13}*B_{33}\\\\\n",
    "    A_{21}*B_{11} + A_{22}*B_{12} + A_{23}*B_{13} \\quad A_{21}*B_{21} + A_{22}*B_{22} + A_{23}*B_{23} \\quad A_{21}*B_{31} + A_{22}*B_{32} + A_{23}*B_{33}\\\\\n",
    "    A_{31}*B_{11} + A_{32}*B_{12} + A_{33}*B_{13} \\quad A_{31}*B_{21} + A_{32}*B_{22} + A_{33}*B_{23} \\quad A_{31}*B_{31} + A_{32}*B_{32} + A_{33}*B_{33}\\\\\n",
    "\\end{bmatrix}\n",
    "$$"
   ]
  },
  {
   "cell_type": "markdown",
   "metadata": {},
   "source": [
    "# Problem 2\n",
    "\n",
    "Refer to [`hw0.py`](hw0.py) for code implementations for the functions invoked below."
   ]
  },
  {
   "cell_type": "code",
   "execution_count": 2,
   "metadata": {},
   "outputs": [
    {
     "name": "stdout",
     "output_type": "stream",
     "text": [
      "---\n",
      "Problem 1.a\n",
      "198.9\n",
      "\n",
      "---\n",
      "Problem 1.b\n",
      "[[13.]\n",
      " [ 9.]\n",
      " [ 8.]]\n",
      "\n",
      "---\n",
      "Problem 1.c\n",
      "784.65\n",
      "\n",
      "---\n",
      "Problem 1.d\n",
      "[[35. 10.  3.]\n",
      " [29.  2.  7.]\n",
      " [28.  8.  0.]]\n",
      "\n",
      "---\n",
      "Problem 1.e\n",
      "[[ 9. 22.  6.]\n",
      " [16. 30. 14.]\n",
      " [ 6.  8.  0.]]\n",
      "\n"
     ]
    }
   ],
   "source": [
    "import numpy as np\n",
    "\n",
    "import hw0\n",
    "\n",
    "# Vectors and matrices for solving problems\n",
    "a_m = np.array([[3, 5, 6], [7, 1, 9], [0, 4, 6]])\n",
    "b_m = np.array([[1, 0, 1], [4, 2, 0], [2, 0, 0]])\n",
    "a_v = np.array([[1], [2], [0]])\n",
    "b_v = np.array([[3], [97.95], [2]])\n",
    "\n",
    "# 1.a.\n",
    "res = hw0.matmul(hw0.transpose(a_v), b_v)\n",
    "hw0.print_result('1.a', res)\n",
    "\n",
    "# 1.b.\n",
    "res = hw0.matmul(a_m, a_v)\n",
    "hw0.print_result('1.b', res)\n",
    "\n",
    "# 1.c.\n",
    "res = hw0.matmul(hw0.transpose(a_v), hw0.matmul(a_m, b_v))\n",
    "hw0.print_result('1.c', res)\n",
    "\n",
    "# 1.d.\n",
    "res = hw0.matmul(a_m, b_m)\n",
    "hw0.print_result('1.d', res)\n",
    "\n",
    "# 1.e.\n",
    "res = hw0.matmul(a_m, hw0.transpose(b_m))\n",
    "hw0.print_result('1.e', res)"
   ]
  },
  {
   "cell_type": "code",
   "execution_count": null,
   "metadata": {},
   "outputs": [],
   "source": []
  }
 ],
 "metadata": {
  "kernelspec": {
   "display_name": "venv",
   "language": "python",
   "name": "python3"
  },
  "language_info": {
   "codemirror_mode": {
    "name": "ipython",
    "version": 3
   },
   "file_extension": ".py",
   "mimetype": "text/x-python",
   "name": "python",
   "nbconvert_exporter": "python",
   "pygments_lexer": "ipython3",
   "version": "3.12.3"
  }
 },
 "nbformat": 4,
 "nbformat_minor": 2
}
