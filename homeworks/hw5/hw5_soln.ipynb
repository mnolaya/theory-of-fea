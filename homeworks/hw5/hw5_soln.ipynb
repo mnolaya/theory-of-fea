{
 "cells": [
  {
   "cell_type": "code",
   "execution_count": null,
   "metadata": {},
   "outputs": [],
   "source": [
    "## Pro"
   ]
  },
  {
   "cell_type": "markdown",
   "metadata": {},
   "source": [
    "## Problem 3"
   ]
  },
  {
   "cell_type": "markdown",
   "metadata": {},
   "source": [
    "### Force vector derivation\n",
    "\n",
    "Assuming no body forces ($[{f}^{b}] = [0]$)\n",
    "\n",
    "$$\n",
    "\\begin{align*}\n",
    "[{f}] & = \\int_{\\Gamma} [{N}]^{T} [{f}]^{s} d\\Gamma \\\\\n",
    "& = t_{z} \\int_{y} [{N}]^{T} [{f}]^{s} dy\n",
    "\\end{align*}\n",
    "$$\n",
    "\n",
    "Surface traction is along the $\\eta_{1} = 1$ in isoparametric space, thus\n",
    "\n",
    "$$\n",
    "\\begin{align*}\n",
    "[{f}] & = t_{z} \\int_{y} [{N}]^{T} [{f}]^{s} dy \\\\\n",
    "& = t_{z}*det([J^{\\Gamma}])* \\int_{-1}^{1} [{N}]^{T} [{f}]^{s} d\\eta_{2}\n",
    "\\end{align*}\n",
    "$$\n",
    "\n",
    "Evaluating shape functions @ $\\eta_{1} = 1$\n",
    "\n",
    "$$\n",
    "\\begin{align*}\n",
    "N_{1} & = 0.25*(\\eta_{1} - 1)*(\\eta_{2} - 1) \\rightarrow 0.25*(1 - 1)*(\\eta_{2} - 1) = 0 \\\\\n",
    "N_{2} & = -0.25*(\\eta_{1} + 1)*(\\eta_{2} - 1) \\rightarrow -0.25*(1 + 1)*(\\eta_{2} - 1) = -0.5*(\\eta_{2} - 1) \\\\\n",
    "N_{3} & = 0.25*(\\eta_{1} + 1)*(\\eta_{2} + 1) \\rightarrow 0.25*(1 + 1)*(\\eta_{2} + 1) = 0.5*(\\eta_{2} + 1) \\\\\n",
    "N_{4} & = -0.25*(\\eta_{1} - 1)*(\\eta_{2} + 1) \\rightarrow -0.25*(1 - 1)*(\\eta_{2} + 1) = 0 \\\\\n",
    "\\end{align*}\n",
    "$$\n",
    "\n",
    "Assembling into the shape function matrix:\n",
    "\n",
    "$$\n",
    "[N] = \\begin{bmatrix}\n",
    "    N_{1} & 0 & N_{2} & 0 & N_{3} & 0 & N_{4} & 0 \\\\\n",
    "    0 & N_{1} & 0 & N_{2} & 0 & N_{3} & 0 & N_{4}\n",
    "\\end{bmatrix} = \\begin{bmatrix}\n",
    "    0 & 0 & -0.5*(\\eta_{2} - 1) & 0 & 0.5*(\\eta_{2} + 1) & 0 & 0 & 0 \\\\\n",
    "    0 & 0 & 0 & -0.5*(\\eta_{2} - 1) & 0 & 0.5*(\\eta_{2} + 1) & 0 & 0\n",
    "\\end{bmatrix}\n",
    "$$\n",
    "\n",
    "For the given surface traction, $det([J^{\\Gamma}])$ requires components Jacobian components $J_{21}, J_{22}$. Hence, from the equation for the Jacobian in column format, only rows 2 and 4 of the shape function derivative matrix are required to compute $det([J^{\\Gamma}])$. Therefore, only the derivatives with respect to $\\eta_2$ of the shape functions can be inspected here.\n",
    "\n",
    "Evaluating shape function derivatives @ $\\eta_{1} = 1$\n",
    "\n",
    "$$\n",
    "\\begin{align*}\n",
    "\\frac{\\partial{N_{1}}}{\\partial{\\eta_{2}}} & = 0.25*(eta_1 - 1) \\rightarrow 0.25*(1 - 1) = 0\\\\\n",
    "\\frac{\\partial{N_{2}}}{\\partial{\\eta_{2}}} & = -0.25*(eta_1 + 1) \\rightarrow -0.25*(1 + 1) = -0.5\\\\\n",
    "\\frac{\\partial{N_{3}}}{\\partial{\\eta_{2}}} & = 0.25*(eta_1 + 1) \\rightarrow 0.25*(1 + 1) = 0.5 \\\\\n",
    "\\frac{\\partial{N_{4}}}{\\partial{\\eta_{2}}} & = -0.25*(eta_1 - 1) \\rightarrow -0.25*(1 - 1) = 0 \\\\\n",
    "\\end{align*}\n",
    "$$\n",
    "\n",
    "Now computing Jacobian components $J_{21}$ and $J_{22}$:\n",
    "\n",
    "$$\n",
    "[J_{col}] = \\frac{\\partial[{N}]}{\\partial{\\mathbf{\\eta}}}{[\\hat{x}]}\n",
    "$$\n",
    "\n",
    "$$\n",
    "J_{21} = \\frac{\\partial{N_{1}}}{\\partial{\\eta_{2}}}*\\hat{x_{11}} + \\frac{\\partial{N_{1}}}{\\partial{\\eta_{2}}}*\\hat{x_{21}} + \\frac{\\partial{N_{1}}}{\\partial{\\eta_{2}}}*\\hat{x_{31}} + \\frac{\\partial{N_{1}}}{\\partial{\\eta_{2}}}*\\hat{x_{41}}\n",
    "$$"
   ]
  },
  {
   "cell_type": "markdown",
   "metadata": {},
   "source": []
  }
 ],
 "metadata": {
  "language_info": {
   "name": "python"
  }
 },
 "nbformat": 4,
 "nbformat_minor": 2
}
