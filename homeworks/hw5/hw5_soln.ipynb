{
 "cells": [
  {
   "cell_type": "markdown",
   "metadata": {},
   "source": [
    "# Homework 5 Solution\n",
    "\n",
    "**MECH.5130: Theory of Finite Element Analysis**\n",
    "\n",
    "Michael N. Olaya"
   ]
  },
  {
   "cell_type": "markdown",
   "metadata": {},
   "source": [
    "## Problem 1"
   ]
  },
  {
   "cell_type": "markdown",
   "metadata": {},
   "source": [
    "![key_funcs](../figs/hw5_funcs.png)\n",
    "![bubble_charts](../figs/hw5_bubble_charts.png)"
   ]
  },
  {
   "cell_type": "markdown",
   "metadata": {},
   "source": [
    "## Problem 2"
   ]
  },
  {
   "cell_type": "markdown",
   "metadata": {},
   "source": [
    "### compute_fs\n",
    "\n",
    "```Python\n",
    "# Input: \n",
    "    # funcs: ndarray (2 x 1)\n",
    "    # coeff: ndarray (2 x ncoeff)\n",
    "    # grid: ndarray (n x m x 2 x 1)\n",
    "# Compute [f(x_1), f(x_2)] for all grid points and coefficients\n",
    "# Output: \n",
    "    # ndarray (n x m x 2 x 1)\n",
    "```"
   ]
  },
  {
   "cell_type": "markdown",
   "metadata": {},
   "source": [
    "### compute_J_det_surf\n",
    "\n",
    "```Python\n",
    "# Input: \n",
    "    # funcs: ndarray (2 x 1)\n",
    "    # grid_shape: ndarray (4 x 0)\n",
    "    # face: str (+x, -x, +y, -y)\n",
    "# Get J1, J2 component indices associated with load face for computing det(J) on the surface\n",
    "# Compute det(J) on the surface = (J1**2 + J2**2)**0.5\n",
    "# Output: \n",
    "    # ndarray (n x m x 1 x 1)\n",
    "```"
   ]
  },
  {
   "cell_type": "markdown",
   "metadata": {},
   "source": [
    "### compute_force_vector\n",
    "\n",
    "```Python\n",
    "# Input: \n",
    "    # ip_grid: ndarray (num_pts x num_pts x 2 x 1)\n",
    "    # w_ij: ndarray (num_pts x num_pts x 1 x 1)\n",
    "    # face: str (+x, -x, +y, -y)\n",
    "    # thickness: float\n",
    "    # funcs: ndarray of Callable (2 x 1)\n",
    "    # coeff: ndarray (2 x ncoeff)\n",
    "    # elem: mfe.baseclasses.Element2D\n",
    "# Compute [N] and [N]^T for the element\n",
    "# Compute [f^s] for the element\n",
    "# Compute [dN]\n",
    "# Compute [J]\n",
    "# Compute det(J) on the surface\n",
    "# Compute f on the surface = thickness*w_ij*det(J_surf)*[N]^T[f^s]\n",
    "# Output: \n",
    "    # ndarray (n x m x 2*nnodes x 1)\n",
    "```"
   ]
  },
  {
   "cell_type": "markdown",
   "metadata": {},
   "source": [
    "## Problem 3"
   ]
  },
  {
   "cell_type": "markdown",
   "metadata": {},
   "source": [
    "### Force vector derivation\n",
    "\n",
    "Assuming no body forces ($[{f}^{b}] = [0]$)\n",
    "\n",
    "$$\n",
    "\\begin{align*}\n",
    "[{f}] & = \\int_{\\Gamma} [{N}]^{T} [{f}^{s}] d\\Gamma \\\\\n",
    "& = t_{z} \\int_{y} [{N}]^{T} [{f}^{s}] dy\n",
    "\\end{align*}\n",
    "$$\n",
    "\n",
    "Surface traction is along the $\\eta_{1} = 1$ in isoparametric space, thus\n",
    "\n",
    "$$\n",
    "\\begin{align*}\n",
    "[{f}] & = t_{z} \\int_{y} [{N}]^{T} [{f}]^{s} dy \\\\\n",
    "& = t_{z}*\\det([J^{\\Gamma}])* \\int_{-1}^{1} [{N}]^{T} [{f}]^{s} d\\eta_{2}\n",
    "\\end{align*}\n",
    "$$\n",
    "\n",
    "Evaluating shape functions @ $\\eta_{1} = 1$\n",
    "\n",
    "$$\n",
    "\\begin{align*}\n",
    "N_{1} & = 0.25*(\\eta_{1} - 1)*(\\eta_{2} - 1) \\rightarrow 0.25*(1 - 1)*(\\eta_{2} - 1) = 0 \\\\\n",
    "N_{2} & = -0.25*(\\eta_{1} + 1)*(\\eta_{2} - 1) \\rightarrow -0.25*(1 + 1)*(\\eta_{2} - 1) = -0.5*(\\eta_{2} - 1) \\\\\n",
    "N_{3} & = 0.25*(\\eta_{1} + 1)*(\\eta_{2} + 1) \\rightarrow 0.25*(1 + 1)*(\\eta_{2} + 1) = 0.5*(\\eta_{2} + 1) \\\\\n",
    "N_{4} & = -0.25*(\\eta_{1} - 1)*(\\eta_{2} + 1) \\rightarrow -0.25*(1 - 1)*(\\eta_{2} + 1) = 0 \\\\\n",
    "\\end{align*}\n",
    "$$\n",
    "\n",
    "Assembling into the shape function matrix:\n",
    "\n",
    "$$\n",
    "[N] = \\begin{bmatrix}\n",
    "    N_{1} & 0 & N_{2} & 0 & N_{3} & 0 & N_{4} & 0 \\\\\n",
    "    0 & N_{1} & 0 & N_{2} & 0 & N_{3} & 0 & N_{4}\n",
    "\\end{bmatrix} = \\begin{bmatrix}\n",
    "    0 & 0 & -0.5*(\\eta_{2} - 1) & 0 & 0.5*(\\eta_{2} + 1) & 0 & 0 & 0 \\\\\n",
    "    0 & 0 & 0 & -0.5*(\\eta_{2} - 1) & 0 & 0.5*(\\eta_{2} + 1) & 0 & 0\n",
    "\\end{bmatrix}\n",
    "$$\n",
    "\n",
    "For the given surface traction, $\\det([J^{\\Gamma}])$ requires components Jacobian components $J_{21}, J_{22}$. Hence, from the equation for the Jacobian in column format, only rows 2 and 4 of the shape function derivative matrix are required to compute $\\det([J^{\\Gamma}])$. Therefore, only the derivatives with respect to $\\eta_2$ of the shape functions can be inspected here.\n",
    "\n",
    "Evaluating shape function derivatives @ $\\eta_{1} = 1$\n",
    "\n",
    "$$\n",
    "\\begin{align*}\n",
    "\\frac{\\partial{N_{1}}}{\\partial{\\eta_{2}}} & = 0.25*(\\eta_{1} - 1) \\rightarrow 0.25*(1 - 1) = 0\\\\\n",
    "\\frac{\\partial{N_{2}}}{\\partial{\\eta_{2}}} & = -0.25*(\\eta_{1} + 1) \\rightarrow -0.25*(1 + 1) = -0.5\\\\\n",
    "\\frac{\\partial{N_{3}}}{\\partial{\\eta_{2}}} & = 0.25*(\\eta_{1} + 1) \\rightarrow 0.25*(1 + 1) = 0.5 \\\\\n",
    "\\frac{\\partial{N_{4}}}{\\partial{\\eta_{2}}} & = -0.25*(\\eta_{1} - 1) \\rightarrow -0.25*(1 - 1) = 0 \\\\\n",
    "\\end{align*}\n",
    "$$\n",
    "\n",
    "Now computing Jacobian components $J_{21}$ and $J_{22}$:\n",
    "\n",
    "$$\n",
    "[J_{col}] = \\frac{\\partial[{N}]}{\\partial{\\mathbf{\\eta}}}{[\\hat{x}]}\n",
    "$$\n",
    "\n",
    "$$\n",
    "J_{21} = \\frac{\\partial{N_{1}}}{\\partial{\\eta_{2}}}*\\hat{x_{11}} + \\frac{\\partial{N_{1}}}{\\partial{\\eta_{2}}}*\\hat{x_{21}} + \\frac{\\partial{N_{1}}}{\\partial{\\eta_{2}}}*\\hat{x_{31}} + \\frac{\\partial{N_{1}}}{\\partial{\\eta_{2}}}*\\hat{x_{41}} = -0.5*\\hat{x_{21}} + 0.5*\\hat{x_{31}}\n",
    "$$\n",
    "\n",
    "$$\n",
    "J_{22} = \\frac{\\partial{N_{1}}}{\\partial{\\eta_{2}}}*\\hat{x_{12}} + \\frac{\\partial{N_{1}}}{\\partial{\\eta_{2}}}*\\hat{x_{22}} + \\frac{\\partial{N_{1}}}{\\partial{\\eta_{2}}}*\\hat{x_{32}} + \\frac{\\partial{N_{1}}}{\\partial{\\eta_{2}}}*\\hat{x_{42}} = -0.5*\\hat{x_{22}} + 0.5*\\hat{x_{32}}\n",
    "$$\n",
    "\n",
    "And finally $\\det([J^{\\Gamma}])$ on the surface:\n",
    "\n",
    "$$\n",
    "\\begin{align*}\n",
    "\\det([J^{\\Gamma}]) & = (J_{21}^{2} + J_{22}^{2})^{0.5} = ((-0.5*\\hat{x_{21}} + 0.5*\\hat{x_{31}})^{2} + (-0.5*\\hat{x_{22}} + 0.5*\\hat{x_{32}})^{2})^{0.5} \\\\\n",
    "\\end{align*}\n",
    "$$\n",
    "\n",
    "With all components assembled, for a given thickness $t_{z}$, compute $[f]$, where $w_{ij}$ are the integration point weights along the load face.\n",
    "$$\n",
    "[{f}] = t_{z}*\\det([J^{\\Gamma}])*w_{ij}*[{N}]^{T} [{f}^{s}]\n",
    "$$"
   ]
  },
  {
   "cell_type": "code",
   "execution_count": 59,
   "metadata": {},
   "outputs": [],
   "source": [
    "import numpy as np\n",
    "import matplotlib.pyplot as plt\n",
    "\n",
    "import mfe.utils\n",
    "import mfe.elem_lib\n",
    "import mfe.baseclasses\n",
    "import mfe.gauss\n",
    "import mfe.plot\n",
    "import mfe.load\n",
    "\n",
    "# plt.style.use('ggplot')\n",
    "# plt.style.use('../../mfe/def_plt_style.mplstyle')"
   ]
  },
  {
   "cell_type": "markdown",
   "metadata": {},
   "source": [
    "For a linear 2D element, the integral has order 1 in each coordinate direction. Therefore, the minimum number of integration points $n$ must be 2 as shown below:\n",
    "\n",
    "$$\n",
    "(2n - 1) \\ge 2 \\\\\n",
    "\\therefore n \\ge 1.5\n",
    "$$"
   ]
  },
  {
   "cell_type": "code",
   "execution_count": 60,
   "metadata": {},
   "outputs": [
    {
     "name": "stdout",
     "output_type": "stream",
     "text": [
      "[[  0.        ]\n",
      " [  0.        ]\n",
      " [265.15699043]\n",
      " [ 43.16509869]\n",
      " [283.65629749]\n",
      " [ 61.66440575]\n",
      " [  0.        ]\n",
      " [  0.        ]]\n"
     ]
    }
   ],
   "source": [
    "# Create element and surface traction\n",
    "elem = mfe.elem_lib.Linear2D.from_element_coords(\n",
    "    [\n",
    "        np.array([0, 0]), \n",
    "        np.array([12, -1]), \n",
    "        np.array([15, 8]), \n",
    "        np.array([-1, 10])\n",
    "    ], num_pts=2\n",
    ")\n",
    "bc = mfe.load.SurfaceTraction.generate(elem=elem, face='+x', constants=[np.array([4, 3]), np.array([5, 1])], thickness=1.3)\n",
    "f = bc.compute_force_vector(elem)\n",
    "print(f)"
   ]
  },
  {
   "cell_type": "markdown",
   "metadata": {},
   "source": []
  },
  {
   "cell_type": "markdown",
   "metadata": {},
   "source": [
    "## Problem 4"
   ]
  },
  {
   "cell_type": "markdown",
   "metadata": {},
   "source": [
    "For a linear 2D element, the integral has order 2 in each coordinate direction. Therefore, the minimum number of integration points $n$ must be 3 as shown below:\n",
    "\n",
    "$$\n",
    "(2n - 1) \\ge 4 \\\\\n",
    "\\therefore n \\ge 2.5\n",
    "$$"
   ]
  },
  {
   "cell_type": "code",
   "execution_count": 61,
   "metadata": {},
   "outputs": [
    {
     "name": "stdout",
     "output_type": "stream",
     "text": [
      "[[  0.        ]\n",
      " [  0.        ]\n",
      " [  0.        ]\n",
      " [  0.        ]\n",
      " [ 61.99153134]\n",
      " [  4.96061823]\n",
      " [349.16398252]\n",
      " [ 75.62878973]\n",
      " [157.54376222]\n",
      " [ 42.70728459]\n",
      " [  0.        ]\n",
      " [  0.        ]\n",
      " [  0.        ]\n",
      " [  0.        ]\n",
      " [  0.        ]\n",
      " [  0.        ]]\n"
     ]
    }
   ],
   "source": [
    "# Create element and surface traction\n",
    "elem = mfe.elem_lib.Quadratic2D.from_element_coords(\n",
    "    [\n",
    "        np.array([0, 0]), \n",
    "        np.array([6, -0.5]), \n",
    "        np.array([12, -1]), \n",
    "        np.array([11, 3]),\n",
    "        np.array([15, 8]), \n",
    "        np.array([6, 11]), \n",
    "        np.array([-1, 10]), \n",
    "        np.array([2, 5]),\n",
    "    ], num_pts=3\n",
    ")\n",
    "bc = mfe.load.SurfaceTraction.generate(elem=elem, face='+x', constants=[np.array([4, 3]), np.array([5, 1])], thickness=1.3)\n",
    "f = bc.compute_force_vector(elem)\n",
    "print(f)"
   ]
  },
  {
   "cell_type": "code",
   "execution_count": null,
   "metadata": {},
   "outputs": [],
   "source": []
  }
 ],
 "metadata": {
  "kernelspec": {
   "display_name": "venv",
   "language": "python",
   "name": "python3"
  },
  "language_info": {
   "codemirror_mode": {
    "name": "ipython",
    "version": 3
   },
   "file_extension": ".py",
   "mimetype": "text/x-python",
   "name": "python",
   "nbconvert_exporter": "python",
   "pygments_lexer": "ipython3",
   "version": "3.12.3"
  }
 },
 "nbformat": 4,
 "nbformat_minor": 2
}
