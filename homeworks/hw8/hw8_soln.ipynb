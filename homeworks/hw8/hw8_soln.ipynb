{
 "cells": [
  {
   "cell_type": "markdown",
   "metadata": {},
   "source": [
    "# Homework 8 Solution\n",
    "\n",
    "**MECH.5130: Theory of Finite Element Analysis**\n",
    "\n",
    "Michael N. Olaya"
   ]
  },
  {
   "cell_type": "markdown",
   "metadata": {},
   "source": [
    "## Sample test question\n",
    "\n",
    "For the given element below, derive the shape function for nodes 1, 3, and 9.\n",
    "\n",
    "![sample_element](..\\figs\\sample_element.png)"
   ]
  },
  {
   "cell_type": "markdown",
   "metadata": {},
   "source": [
    "### Node 1\n",
    "\n",
    "Eliminating nodes along $\\eta_{1} = 1$ and $\\eta_{2} = 1$ faces...\n",
    "\n",
    "$$\n",
    "N_{1} = (\\eta_{1} - 1)*(\\eta_{2} - 1)*...*C\n",
    "$$\n",
    "\n",
    "Eliminating nodes on boundaries $N_{2}, N_{3}, N_{9}$...\n",
    "\n",
    "Find slope between $N_{2}$ and $N_{9}$\n",
    "\n",
    "$$\n",
    "m_{29} = \\frac{0 - (-1)}{(-1 - (-0.5))} = -2 \\\\\n",
    "$$\n",
    "\n",
    "Find equation of line and set to zero to eliminate corresponding nodes\n",
    "\n",
    "$$\n",
    "\\begin{align*}\n",
    "y &= mx + b \\\\\n",
    "0 &= -2*(-1) + b \\rightarrow b = -2 \\\\\n",
    "\\therefore 0 &= \\eta_{2} + 2\\eta_{1} + 2 \n",
    "\\end{align*}\n",
    "$$\n",
    "\n",
    "Find slope between $N_{3}$ and $N_{9}$\n",
    "\n",
    "$$\n",
    "m_{39} = \\frac{0 - (-1)}{(-1 - 0)} = -1 \\\\\n",
    "$$\n",
    "\n",
    "Find equation of line and set to zero to eliminate corresponding nodes\n",
    "\n",
    "$$\n",
    "\\begin{align*}\n",
    "y &= mx + b \\\\\n",
    "0 &= -1*(-1) + b \\rightarrow b = -1 \\\\\n",
    "\\therefore 0 &= \\eta_{2} + \\eta_{1} + 1\n",
    "\\end{align*}\n",
    "$$\n",
    "\n",
    "Updating the equation for $N_{1}$:\n",
    "\n",
    "$$\n",
    "N_{1} = (\\eta_{1} - 1)*(\\eta_{2} - 1)*(\\eta_{2} + 2\\eta_{1} + 2)*(\\eta_{2} + \\eta_{1} + 1)*C\n",
    "$$\n",
    "\n",
    "Now we can solve for C by setting $N_{1} = 1$ @ $(\\eta_{1}, \\eta_{2}) = (-1, -1)$\n",
    "\n",
    "$$\n",
    "\\begin{align*}\n",
    "1 &= (\\eta_{1} - 1)*(\\eta_{2} - 1)*(\\eta_{2} + 2\\eta_{1} + 2)*(\\eta_{2} + \\eta_{1} + 1)*C \\\\ \n",
    "&= (-1 - 1)*(-1 - 1)*(-1 + 2*(-1) + 2)*(-1 + -1 + 1)*C \\\\ \n",
    "&= (-2)*(-2)*(-1)*(-1)*C \\\\\n",
    "&= 4*C \\\\\n",
    "\\end{align*}\n",
    "$$\n",
    "\n",
    "$$\n",
    "\\therefore C = 1/4\n",
    "$$"
   ]
  },
  {
   "cell_type": "markdown",
   "metadata": {},
   "source": [
    "Finally, we have the shape function for node 1:\n",
    "\n",
    "$$\n",
    "N_{1} = 1/4*(\\eta_{1} - 1)*(\\eta_{2} - 1)*(\\eta_{2} + 2\\eta_{1} + 2)*(\\eta_{2} + \\eta_{1} + 1)\n",
    "$$"
   ]
  },
  {
   "cell_type": "markdown",
   "metadata": {},
   "source": [
    "### Node 3\n",
    "\n",
    "Eliminating nodes along $\\eta_{1} = -1$, $\\eta_{1} = 1$, and $\\eta_{2} = 1$ faces...\n",
    "\n",
    "$$\n",
    "N_{3} = (\\eta_{1} - 1)*(\\eta_{1} + 1)*(\\eta_{2} - 1)*...*C\n",
    "$$\n",
    "\n",
    "Eliminating nodes on boundaries $N_{2}, N_{9}$...\n",
    "\n",
    "Find slope between $N_{2}$ and $N_{9}$\n",
    "\n",
    "$$\n",
    "m_{29} = \\frac{0 - (-1)}{(-1 - (-0.5))} = -2 \\\\\n",
    "$$\n",
    "\n",
    "Find equation of line and set to zero to eliminate corresponding nodes\n",
    "\n",
    "$$\n",
    "\\begin{align*}\n",
    "y &= mx + b \\\\\n",
    "0 &= -2*(-1) + b \\rightarrow b = -2 \\\\\n",
    "\\therefore 0 &= \\eta_{2} + 2\\eta_{1} + 2 \n",
    "\\end{align*}\n",
    "$$\n",
    "\n",
    "Updating the equation for $N_{1}$:\n",
    "\n",
    "$$\n",
    "N_{3} = (\\eta_{1} - 1)*(\\eta_{1} + 1)*(\\eta_{2} - 1)*(\\eta_{2} + 2\\eta_{1} + 2)*C\n",
    "$$\n",
    "\n",
    "Now we can solve for C by setting $N_{3} = 1$ @ $(\\eta_{1}, \\eta_{2}) = (0, -1)$\n",
    "\n",
    "$$\n",
    "\\begin{align*}\n",
    "1 &= (\\eta_{1} - 1)*(\\eta_{1} + 1)*(\\eta_{2} - 1)*(\\eta_{2} + 2\\eta_{1} + 2)*C \\\\ \n",
    "&= (0 - 1)*(0 + 1)*(-1 - 1)*(-1 + 2*0 + 2)*C \\\\ \n",
    "&= (-1)*(1)*(-2)*(1)*C \\\\\n",
    "&= 2*C \\\\\n",
    "\\end{align*}\n",
    "$$\n",
    "\n",
    "$$\n",
    "\\therefore C = 1/2\n",
    "$$"
   ]
  },
  {
   "cell_type": "markdown",
   "metadata": {},
   "source": [
    "Finally, we have the shape function for node 3:\n",
    "\n",
    "$$\n",
    "N_{3} = 1/2*(\\eta_{1} - 1)*(\\eta_{1} + 1)*(\\eta_{2} - 1)*(\\eta_{2} + 2\\eta_{1} + 2)\n",
    "$$"
   ]
  },
  {
   "cell_type": "markdown",
   "metadata": {},
   "source": [
    "### Node 9\n",
    "\n",
    "Eliminating nodes along $\\eta_{1} = 1$, $\\eta_{2} = -1$, and $\\eta_{2} = 1$ faces...\n",
    "\n",
    "$$\n",
    "N_{9} = (\\eta_{1} - 1)*(\\eta_{2} - 1)*(\\eta_{2} + 1)*...*C\n",
    "$$\n",
    "\n",
    "Now we can solve for C by setting $N_{9} = 1$ @ $(\\eta_{1}, \\eta_{2}) = (-1, 0)$\n",
    "\n",
    "$$\n",
    "\\begin{align*}\n",
    "1 &= (\\eta_{1} - 1)*(\\eta_{2} - 1)*(\\eta_{2} + 1)*C \\\\ \n",
    "&= (-1 - 1)*(0 - 1)*(0 + 1)*C \\\\ \n",
    "&= (-2)*(-1)*(1)*C \\\\\n",
    "&= 2*C \\\\\n",
    "\\end{align*}\n",
    "$$\n",
    "\n",
    "$$\n",
    "\\therefore C = 1/2\n",
    "$$"
   ]
  },
  {
   "cell_type": "markdown",
   "metadata": {},
   "source": [
    "Finally, we have the shape function for node 9:\n",
    "\n",
    "$$\n",
    "N_{9} = 1/2*(\\eta_{1} - 1)*(\\eta_{2} - 1)*(\\eta_{2} + 1)\n",
    "$$"
   ]
  },
  {
   "cell_type": "markdown",
   "metadata": {},
   "source": [
    "\n"
   ]
  }
 ],
 "metadata": {
  "kernelspec": {
   "display_name": "venv",
   "language": "python",
   "name": "python3"
  },
  "language_info": {
   "codemirror_mode": {
    "name": "ipython",
    "version": 3
   },
   "file_extension": ".py",
   "mimetype": "text/x-python",
   "name": "python",
   "nbconvert_exporter": "python",
   "pygments_lexer": "ipython3",
   "version": "3.12.3"
  }
 },
 "nbformat": 4,
 "nbformat_minor": 2
}
